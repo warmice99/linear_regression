{
 "cells": [
  {
   "cell_type": "code",
   "execution_count": null,
   "metadata": {},
   "outputs": [],
   "source": [
    "import random\n",
    "import matplotlib.pyplot as plt\n",
    "import math\n",
    "import numpy as np"
   ]
  },
  {
   "cell_type": "markdown",
   "metadata": {},
   "source": [
    "dummy data for multivariate regression"
   ]
  },
  {
   "cell_type": "code",
   "execution_count": null,
   "metadata": {},
   "outputs": [],
   "source": [
    "data = [(1, 1), (2, 2), (3, 4), (4, 3), (5, 5.5), (6, 8), (7, 6), (8, 8.4), (9, 10), (5, 4)] "
   ]
  },
  {
   "cell_type": "markdown",
   "metadata": {},
   "source": [
    "plot the line using theta values"
   ]
  },
  {
   "cell_type": "code",
   "execution_count": null,
   "metadata": {},
   "outputs": [],
   "source": [
    "def plot_line(formula, x_range, order_of_regression):\n",
    "    x = np.array(x_range).tolist()  \n",
    "    y = [formula(update_features(x_i, order_of_regression)) for x_i in x]\n",
    "    plt.plot(x, y)"
   ]
  },
  {
   "cell_type": "markdown",
   "metadata": {},
   "source": [
    "hypothesis funstion"
   ]
  },
  {
   "cell_type": "code",
   "execution_count": null,
   "metadata": {},
   "outputs": [],
   "source": [
    "def h(x, theta):\n",
    "    return np.matmul(theta.T, x)[0][0]"
   ]
  },
  {
   "cell_type": "markdown",
   "metadata": {},
   "source": [
    "partial derivative wrto theta i"
   ]
  },
  {
   "cell_type": "code",
   "execution_count": null,
   "metadata": {},
   "outputs": [],
   "source": [
    "def j_prime_theta(data, theta, order_of_regression, i):\n",
    "    result = 0\n",
    "    m = len(data)\n",
    "    for x, y in data :\n",
    "        x = update_features(x, order_of_regression)\n",
    "        result += (h(x, theta) - y) * x[i]\n",
    "    \n",
    "    return (1/m) * result"
   ]
  },
  {
   "cell_type": "markdown",
   "metadata": {},
   "source": [
    "updating features"
   ]
  },
  {
   "cell_type": "code",
   "execution_count": null,
   "metadata": {},
   "outputs": [],
   "source": [
    "def update_features(x, order_of_regression):\n",
    "    features = [1]\n",
    "    for i in range(order_of_regression):\n",
    "        features.append(math.pow(x, i+1))\n",
    "    return np.atleast_2d(features).T"
   ]
  },
  {
   "cell_type": "markdown",
   "metadata": {},
   "source": [
    "cost function"
   ]
  },
  {
   "cell_type": "code",
   "execution_count": null,
   "metadata": {},
   "outputs": [],
   "source": [
    "def j(data, theta, order_of_regression):\n",
    "    cost = 0\n",
    "    m = len(data)\n",
    "    for x, y in data:\n",
    "        x = update_features(x, order_of_regression)\n",
    "        cost += math.pow(h(x, theta) - y, 2)\n",
    "    return (1/(2*m)) * cost"
   ]
  },
  {
   "cell_type": "code",
   "execution_count": null,
   "metadata": {},
   "outputs": [],
   "source": [
    "def update_theta(data, alpha, theta, order_of_regression):\n",
    "    temp = []\n",
    "    for i in range(order_of_regression+1):\n",
    "        temp.append(theta[i] - alpha * j_prime_theta(data, theta, order_of_regression, i))\n",
    "    theta = np.array(temp)\n",
    "    return theta"
   ]
  },
  {
   "cell_type": "markdown",
   "metadata": {},
   "source": [
    "gradient descent"
   ]
  },
  {
   "cell_type": "code",
   "execution_count": null,
   "metadata": {},
   "outputs": [],
   "source": [
    "def gradient_descent(data, alpha, tolerance, theta=[], order_of_regression = 2):\n",
    "    if len(theta) == 0:\n",
    "        theta = np.atleast_2d(np.random.random(order_of_regression+1) * 100).T\n",
    "    prev_j = 10000\n",
    "    curr_j = j(data, theta, order_of_regression)\n",
    "    print(curr_j)\n",
    "    cost_history = []\n",
    "    theta_history = [] \n",
    "    while(abs(curr_j - prev_j) > tolerance):\n",
    "        try:\n",
    "            cost_history.append(curr_j)\n",
    "            theta_history.append(theta)\n",
    "            theta = update_theta(data, alpha, theta, order_of_regression)\n",
    "            prev_j = curr_j\n",
    "            curr_j = j(data, theta, order_of_regression)\n",
    "            print(curr_j)\n",
    "        except:\n",
    "            break\n",
    "    print(\"Stopped with Error at %.5f\" % prev_j)\n",
    "    return theta\n",
    "\n",
    "theta = gradient_descent(data, 0.001, 0.001)"
   ]
  }
 ],
 "metadata": {
  "kernelspec": {
   "display_name": "Python 3",
   "language": "python",
   "name": "python3"
  },
  "language_info": {
   "codemirror_mode": {
    "name": "ipython",
    "version": 3
   },
   "file_extension": ".py",
   "mimetype": "text/x-python",
   "name": "python",
   "nbconvert_exporter": "python",
   "pygments_lexer": "ipython3",
   "version": "3.6.9"
  }
 },
 "nbformat": 4,
 "nbformat_minor": 2
}
